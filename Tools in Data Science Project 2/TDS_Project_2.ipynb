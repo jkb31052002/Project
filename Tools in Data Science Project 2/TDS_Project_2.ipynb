{
  "cells": [
    {
      "cell_type": "code",
      "execution_count": 64,
      "id": "d71df9ac",
      "metadata": {
        "colab": {
          "base_uri": "https://localhost:8080/",
          "height": 300
        },
        "id": "d71df9ac",
        "outputId": "4816a5a9-1277-4384-e6c9-69ceef72668a"
      },
      "outputs": [],
      "source": [
        "%matplotlib inline\n",
        "\n",
        "import pandas as pd\n",
        "\n",
        "r = pd.read_csv( 'ratings.csv' )\n",
        "tr = pd.read_csv( 'toread.csv' )\n",
        "b = pd.read_csv( 'books.csv' )\n",
        "bt = pd.read_csv( 'book_tags.csv')"
      ]
    },
    {
      "cell_type": "code",
      "execution_count": 65,
      "id": "3b3a636a",
      "metadata": {
        "colab": {
          "base_uri": "https://localhost:8080/"
        },
        "id": "3b3a636a",
        "outputId": "ea432c13-56b2-4d8e-e977-e6061228d9af"
      },
      "outputs": [
        {
          "data": {
            "text/plain": [
              "313"
            ]
          },
          "execution_count": 65,
          "metadata": {},
          "output_type": "execute_result"
        }
      ],
      "source": [
        "len( b.book_id.unique())     #q1"
      ]
    },
    {
      "cell_type": "code",
      "execution_count": 66,
      "id": "d816276d",
      "metadata": {
        "colab": {
          "base_uri": "https://localhost:8080/"
        },
        "id": "d816276d",
        "outputId": "0bb977d3-0a90-4743-80c3-471fa7eb51e3"
      },
      "outputs": [
        {
          "data": {
            "text/plain": [
              "32346"
            ]
          },
          "execution_count": 66,
          "metadata": {},
          "output_type": "execute_result"
        }
      ],
      "source": [
        "len( r.user_id.unique())  #q2"
      ]
    },
    {
      "cell_type": "code",
      "execution_count": 67,
      "id": "50b333a5",
      "metadata": {
        "colab": {
          "base_uri": "https://localhost:8080/"
        },
        "id": "50b333a5",
        "outputId": "4bf74f94-4761-46a7-9509-33156bca1498"
      },
      "outputs": [
        {
          "data": {
            "text/plain": [
              "49"
            ]
          },
          "execution_count": 67,
          "metadata": {},
          "output_type": "execute_result"
        }
      ],
      "source": [
        "b.original_title.isnull().sum()   #q3"
      ]
    },
    {
      "cell_type": "code",
      "execution_count": 86,
      "id": "fd6d63a7",
      "metadata": {
        "colab": {
          "base_uri": "https://localhost:8080/",
          "height": 35
        },
        "id": "fd6d63a7",
        "outputId": "9b320472-4ae3-4098-a86d-3b370ddb353d"
      },
      "outputs": [
        {
          "data": {
            "text/plain": [
              "'Fifty Shades Darker (Fifty Shades, #2)'"
            ]
          },
          "execution_count": 86,
          "metadata": {},
          "output_type": "execute_result"
        }
      ],
      "source": [
        "b.title[b.work_ratings_count.idxmax()]   #q4"
      ]
    },
    {
      "cell_type": "code",
      "execution_count": 69,
      "id": "dab4672c",
      "metadata": {
        "id": "dab4672c"
      },
      "outputs": [],
      "source": [
        "#q5 used excel "
      ]
    },
    {
      "cell_type": "code",
      "execution_count": 87,
      "id": "0a848761",
      "metadata": {
        "colab": {
          "base_uri": "https://localhost:8080/",
          "height": 35
        },
        "id": "0a848761",
        "outputId": "4d060a37-5160-4142-b60d-e28ee45762b1"
      },
      "outputs": [
        {
          "data": {
            "text/plain": [
              "'The Edge of Never (The Edge of Never, #1)'"
            ]
          },
          "execution_count": 87,
          "metadata": {},
          "output_type": "execute_result"
        }
      ],
      "source": [
        "new_books = b.set_index(\"goodreads_book_id\")  \n",
        "new_books1 = b.set_index(\"book_id\")  \n",
        "new_books.loc[bt.groupby(\"goodreads_book_id\").agg(sum).sort_values(\"count\", ascending = False).iloc[0].name][\"title\"]\n",
        "# q6"
      ]
    },
    {
      "cell_type": "code",
      "execution_count": 88,
      "id": "f08f1557",
      "metadata": {
        "colab": {
          "base_uri": "https://localhost:8080/",
          "height": 35
        },
        "id": "f08f1557",
        "outputId": "9cd506a6-98b8-4df6-8985-746fde3d2120"
      },
      "outputs": [
        {
          "data": {
            "text/plain": [
              "11710373"
            ]
          },
          "execution_count": 88,
          "metadata": {},
          "output_type": "execute_result"
        }
      ],
      "source": [
        "new_books1.loc[tr.groupby(\"book_id\").agg(\"count\").sort_values(\"user_id\", ascending = False).iloc[0].name][\"goodreads_book_id\"]  \n",
        "# q7"
      ]
    },
    {
      "cell_type": "code",
      "execution_count": 72,
      "id": "7dd68d2e",
      "metadata": {
        "id": "7dd68d2e"
      },
      "outputs": [],
      "source": [
        "# q8 used excel"
      ]
    },
    {
      "cell_type": "code",
      "execution_count": 89,
      "id": "50193e15",
      "metadata": {
        "id": "50193e15"
      },
      "outputs": [],
      "source": [
        "def func(row):\n",
        "    some = row[\"ratings_1\"]+row[\"ratings_2\"]+row[\"ratings_3\"]+row[\"ratings_4\"]+row[\"ratings_5\"]\n",
        "    other = row[\"ratings_1\"]+2*row[\"ratings_2\"]+3*row[\"ratings_3\"]+4*row[\"ratings_4\"]+5*row[\"ratings_5\"]\n",
        "    return other/some"
      ]
    },
    {
      "cell_type": "code",
      "execution_count": 90,
      "id": "6ada5820",
      "metadata": {
        "id": "6ada5820",
        "outputId": "d14a57bf-5e56-4dee-ca24-9d945e353a2f"
      },
      "outputs": [
        {
          "data": {
            "text/plain": [
              "0      3.868840\n",
              "1      4.137945\n",
              "2      3.789111\n",
              "3      4.128714\n",
              "4      4.234712\n",
              "         ...   \n",
              "308    3.547209\n",
              "309    3.755568\n",
              "310    3.901009\n",
              "311    4.121665\n",
              "312    4.177540\n",
              "Name: avg_ratings, Length: 313, dtype: float64"
            ]
          },
          "execution_count": 90,
          "metadata": {},
          "output_type": "execute_result"
        }
      ],
      "source": [
        "b[\"avg_ratings\"] = b.apply(lambda row: func(row), axis = 1)\n",
        "b[\"avg_ratings\"]"
      ]
    },
    {
      "cell_type": "code",
      "execution_count": 91,
      "id": "jE7hcsh0kbhu",
      "metadata": {
        "colab": {
          "base_uri": "https://localhost:8080/"
        },
        "id": "jE7hcsh0kbhu",
        "outputId": "53fb7760-2428-4b40-fc89-f5d6bb41b5e7"
      },
      "outputs": [
        {
          "name": "stdout",
          "output_type": "stream",
          "text": [
            "0      3.868840\n",
            "1      4.137945\n",
            "2      3.789111\n",
            "3      4.128714\n",
            "4      4.234712\n",
            "         ...   \n",
            "308    3.547209\n",
            "309    3.755568\n",
            "310    3.901009\n",
            "311    4.121665\n",
            "312    4.177540\n",
            "Name: avg_ratings, Length: 313, dtype: float64\n"
          ]
        }
      ],
      "source": [
        "print(b[\"avg_ratings\"])"
      ]
    },
    {
      "cell_type": "code",
      "execution_count": 95,
      "id": "1d648bfd",
      "metadata": {
        "colab": {
          "base_uri": "https://localhost:8080/",
          "height": 35
        },
        "id": "1d648bfd",
        "outputId": "0af4622d-ad99-4680-cf93-fc76c7d1a631"
      },
      "outputs": [
        {
          "data": {
            "text/plain": [
              "'Going Rogue: An American Life'"
            ]
          },
          "execution_count": 95,
          "metadata": {},
          "output_type": "execute_result"
        }
      ],
      "source": [
        "b.iloc[b.avg_ratings.idxmin()][\"title\"]   #q9 "
      ]
    },
    {
      "cell_type": "code",
      "execution_count": 77,
      "id": "bafe787f",
      "metadata": {
        "id": "bafe787f"
      },
      "outputs": [],
      "source": [
        "# q10 used excel"
      ]
    },
    {
      "cell_type": "code",
      "execution_count": 96,
      "id": "bb7884b3",
      "metadata": {
        "colab": {
          "base_uri": "https://localhost:8080/"
        },
        "id": "bb7884b3",
        "outputId": "6b8502ec-410f-4870-e665-0e3665566802"
      },
      "outputs": [
        {
          "data": {
            "text/plain": [
              "5904"
            ]
          },
          "execution_count": 96,
          "metadata": {},
          "output_type": "execute_result"
        }
      ],
      "source": [
        "len(bt.tag_id.unique())   #q11"
      ]
    },
    {
      "cell_type": "code",
      "execution_count": 97,
      "id": "35264351",
      "metadata": {
        "colab": {
          "base_uri": "https://localhost:8080/"
        },
        "id": "35264351",
        "outputId": "8fb88861-326c-4ff2-9cb0-0e0e6b7b6559"
      },
      "outputs": [
        {
          "data": {
            "text/plain": [
              "4.05796388247129"
            ]
          },
          "execution_count": 97,
          "metadata": {},
          "output_type": "execute_result"
        }
      ],
      "source": [
        "b.avg_ratings.mean() #q12"
      ]
    },
    {
      "cell_type": "code",
      "execution_count": 98,
      "id": "0eb7d8be",
      "metadata": {
        "colab": {
          "base_uri": "https://localhost:8080/"
        },
        "id": "0eb7d8be",
        "outputId": "7131b684-2177-43d2-9e54-e155c98294d0"
      },
      "outputs": [
        {
          "data": {
            "text/plain": [
              "5"
            ]
          },
          "execution_count": 98,
          "metadata": {},
          "output_type": "execute_result"
        }
      ],
      "source": [
        "sum(b.original_publication_year == 2000) #q13"
      ]
    },
    {
      "cell_type": "code",
      "execution_count": 81,
      "id": "2716436b",
      "metadata": {
        "id": "2716436b"
      },
      "outputs": [],
      "source": [
        "#Q14 DONE IN EXCEL"
      ]
    },
    {
      "cell_type": "code",
      "execution_count": 99,
      "id": "b202a6b6",
      "metadata": {
        "id": "b202a6b6"
      },
      "outputs": [],
      "source": [
        "from textblob import TextBlob"
      ]
    },
    {
      "cell_type": "code",
      "execution_count": 100,
      "id": "99481dd9",
      "metadata": {
        "id": "99481dd9"
      },
      "outputs": [],
      "source": [
        "b[\"text_blob\"] = b.apply(lambda row: TextBlob(row.astype(\"str\")[\"title\"]).sentiment.polarity, axis = 1)"
      ]
    },
    {
      "cell_type": "code",
      "execution_count": 101,
      "id": "e1afac81",
      "metadata": {
        "colab": {
          "base_uri": "https://localhost:8080/"
        },
        "id": "e1afac81",
        "outputId": "da77f331-7ba7-46c1-ca07-038bf9962f28"
      },
      "outputs": [
        {
          "data": {
            "text/plain": [
              "56"
            ]
          },
          "execution_count": 101,
          "metadata": {},
          "output_type": "execute_result"
        }
      ],
      "source": [
        "sum(b.text_blob>0)  #q15/"
      ]
    },
    {
      "cell_type": "code",
      "execution_count": 85,
      "id": "28da7174",
      "metadata": {
        "colab": {
          "base_uri": "https://localhost:8080/"
        },
        "id": "28da7174",
        "outputId": "4b4f4cf2-24f7-4824-aca4-82ab6eb180f0"
      },
      "outputs": [
        {
          "name": "stdout",
          "output_type": "stream",
          "text": [
            "0      0.00\n",
            "1      0.00\n",
            "2      0.00\n",
            "3      0.00\n",
            "4      0.00\n",
            "       ... \n",
            "308    0.00\n",
            "309   -0.15\n",
            "310    0.00\n",
            "311    0.00\n",
            "312    0.00\n",
            "Name: text_blob, Length: 313, dtype: float64\n"
          ]
        }
      ],
      "source": [
        "print(b[\"text_blob\"])"
      ]
    },
    {
      "cell_type": "code",
      "execution_count": null,
      "id": "integrated-prayer",
      "metadata": {
        "id": "integrated-prayer"
      },
      "outputs": [],
      "source": []
    }
  ],
  "metadata": {
    "colab": {
      "collapsed_sections": [],
      "name": "TDS_Project_2.ipynb",
      "provenance": []
    },
    "kernelspec": {
      "display_name": "Python 3.9.6 64-bit",
      "language": "python",
      "name": "python3"
    },
    "language_info": {
      "codemirror_mode": {
        "name": "ipython",
        "version": 3
      },
      "file_extension": ".py",
      "mimetype": "text/x-python",
      "name": "python",
      "nbconvert_exporter": "python",
      "pygments_lexer": "ipython3",
      "version": "3.9.6"
    },
    "vscode": {
      "interpreter": {
        "hash": "078a2cf4f73b352a712d8dc2b9cd7b532317b9295ddd60069c1046edb7079812"
      }
    }
  },
  "nbformat": 4,
  "nbformat_minor": 5
}
